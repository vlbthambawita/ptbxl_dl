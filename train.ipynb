{
 "cells": [
  {
   "cell_type": "code",
   "execution_count": 1,
   "id": "915b0afa-2651-4821-8891-75efbae18316",
   "metadata": {},
   "outputs": [],
   "source": [
    "from lightning.pytorch.cli import LightningCLI\n",
    "from lightning.pytorch.loggers import WandbLogger\n",
    "from data import PTBXLDataModule \n",
    "\n",
    "from plmodule import ECGModel\n"
   ]
  },
  {
   "cell_type": "code",
   "execution_count": 4,
   "id": "f7b9d57a-f565-45f2-a05f-f11f6076d946",
   "metadata": {},
   "outputs": [
    {
     "name": "stdout",
     "output_type": "stream",
     "text": [
      "/work/vajira/anaconda3/bin/conda\n"
     ]
    }
   ],
   "source": [
    "!which conda"
   ]
  },
  {
   "cell_type": "code",
   "execution_count": 7,
   "id": "ee00438e-8bad-4f82-8040-5161e93c6b1f",
   "metadata": {},
   "outputs": [
    {
     "name": "stdout",
     "output_type": "stream",
     "text": [
      "# conda environments:\n",
      "#\n",
      "base                  *  /work/vajira/anaconda3\n",
      "pytorch                  /work/vajira/anaconda3/envs/pytorch\n",
      "pytorch2                 /work/vajira/anaconda3/envs/pytorch2\n",
      "tf                       /work/vajira/anaconda3/envs/tf\n",
      "\n"
     ]
    }
   ],
   "source": [
    "!conda env list"
   ]
  },
  {
   "cell_type": "code",
   "execution_count": 9,
   "id": "cc0a9bc8-23c1-4cde-bfff-8c8d649d3c86",
   "metadata": {},
   "outputs": [
    {
     "name": "stdout",
     "output_type": "stream",
     "text": [
      "no change     /work/vajira/anaconda3/condabin/conda\n",
      "no change     /work/vajira/anaconda3/bin/conda\n",
      "no change     /work/vajira/anaconda3/bin/conda-env\n",
      "no change     /work/vajira/anaconda3/bin/activate\n",
      "no change     /work/vajira/anaconda3/bin/deactivate\n",
      "no change     /work/vajira/anaconda3/etc/profile.d/conda.sh\n",
      "no change     /work/vajira/anaconda3/etc/fish/conf.d/conda.fish\n",
      "no change     /work/vajira/anaconda3/shell/condabin/Conda.psm1\n",
      "no change     /work/vajira/anaconda3/shell/condabin/conda-hook.ps1\n",
      "no change     /work/vajira/anaconda3/lib/python3.9/site-packages/xontrib/conda.xsh\n",
      "no change     /work/vajira/anaconda3/etc/profile.d/conda.csh\n",
      "no change     /home/vajira/.bashrc\n",
      "No action taken.\n"
     ]
    }
   ],
   "source": [
    "!conda init bash"
   ]
  },
  {
   "cell_type": "code",
   "execution_count": 10,
   "id": "1f8b021e-15f4-4013-9a50-a65812fb02de",
   "metadata": {},
   "outputs": [
    {
     "name": "stdout",
     "output_type": "stream",
     "text": [
      "\n",
      "CommandNotFoundError: Your shell has not been properly configured to use 'conda activate'.\n",
      "To initialize your shell, run\n",
      "\n",
      "    $ conda init <SHELL_NAME>\n",
      "\n",
      "Currently supported shells are:\n",
      "  - bash\n",
      "  - fish\n",
      "  - tcsh\n",
      "  - xonsh\n",
      "  - zsh\n",
      "  - powershell\n",
      "\n",
      "See 'conda init --help' for more information and options.\n",
      "\n",
      "IMPORTANT: You may need to close and restart your shell after running 'conda init'.\n",
      "\n",
      "\n"
     ]
    }
   ],
   "source": [
    "!conda activate pytorch2"
   ]
  },
  {
   "cell_type": "code",
   "execution_count": null,
   "id": "762fed69-6564-4489-86d6-ef7bfb90bdf2",
   "metadata": {},
   "outputs": [],
   "source": []
  }
 ],
 "metadata": {
  "kernelspec": {
   "display_name": "pytorch2",
   "language": "python",
   "name": "pytorch2"
  },
  "language_info": {
   "codemirror_mode": {
    "name": "ipython",
    "version": 3
   },
   "file_extension": ".py",
   "mimetype": "text/x-python",
   "name": "python",
   "nbconvert_exporter": "python",
   "pygments_lexer": "ipython3",
   "version": "3.10.9"
  }
 },
 "nbformat": 4,
 "nbformat_minor": 5
}
