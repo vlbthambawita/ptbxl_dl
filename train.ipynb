{
 "cells": [
  {
   "cell_type": "code",
   "execution_count": 4,
   "id": "915b0afa-2651-4821-8891-75efbae18316",
   "metadata": {},
   "outputs": [],
   "source": [
    "from lightning.pytorch.cli import LightningCLI\n",
    "from lightning.pytorch.loggers import WandbLogger\n",
    "from data import PTBXLDataModule \n",
    "\n",
    "from plmodule import ECGModel\n"
   ]
  },
  {
   "cell_type": "code",
   "execution_count": 7,
   "id": "1f8b021e-15f4-4013-9a50-a65812fb02de",
   "metadata": {},
   "outputs": [],
   "source": [
    "!which "
   ]
  },
  {
   "cell_type": "code",
   "execution_count": null,
   "id": "762fed69-6564-4489-86d6-ef7bfb90bdf2",
   "metadata": {},
   "outputs": [],
   "source": []
  }
 ],
 "metadata": {
  "kernelspec": {
   "display_name": "pytorch2",
   "language": "python",
   "name": "pytorch2"
  },
  "language_info": {
   "codemirror_mode": {
    "name": "ipython",
    "version": 3
   },
   "file_extension": ".py",
   "mimetype": "text/x-python",
   "name": "python",
   "nbconvert_exporter": "python",
   "pygments_lexer": "ipython3",
   "version": "3.10.9"
  }
 },
 "nbformat": 4,
 "nbformat_minor": 5
}
